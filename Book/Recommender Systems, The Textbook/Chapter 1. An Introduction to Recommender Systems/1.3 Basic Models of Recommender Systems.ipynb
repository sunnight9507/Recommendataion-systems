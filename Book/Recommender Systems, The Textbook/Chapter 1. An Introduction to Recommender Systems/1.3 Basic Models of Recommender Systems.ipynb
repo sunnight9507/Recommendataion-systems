{
 "cells": [
  {
   "cell_type": "markdown",
   "metadata": {},
   "source": [
    "추천시스템의 기본 모델은 **등급 또는 구매 행동과 같은 사용자와 item간의 관계**와 **사용자 및 item에 대한 속성 정보(ex: 기본 정보, 관련 키워드)** 라는 두 가지 종류의 데이터로 작동된다. 전자를 사용하는 방법을 **`협업 필터링`**이라고 하는 반면 후자를 사용하는 방법은 **`콘텐츠 기반 추천시스템`** 이라고 한다. 콘텐츠 기반 시스템도 대부분의 경우 rating 매트릭스를 사용하지만 일반적으로 모든 사용자의 등급이 아닌 단일 사용자의 등급에 중점을 둔다. 지식 기반 추천시스템에서 추천은 명시적으로 지정된 사용자 요구에 기초한다. 과거 rating을 사용하거나 데이터를 구입하는 대신 외부 지식 기반과 제약 조건을 활용해 추천을 한다. **일부 추천 시스템은 이러한 다양한 측면을 결합해 하이브리드 시스템을 만든다.** 하이브리드 시스템은 다양한 유형의 추천시스템의 강점을 결합하여 다양한 설정에서 보다 견고하게 수행할 수 있는 기법을 만들 수 있다. 다음에서는 이러한 기본 모델에 대해 간략하게 논의하고, 또한 이 모델에 대해 논의되는 책 속의 관련 장에 대한 포인터를 제공할 것이다.\n",
    "\n",
    "## 1.3.1 Collaborative Filtering Models\n",
    "\n",
    "> **협업 필터링 모델**은 **여러 사용자가 제공 한 평가의 협업 기능을 사용하여 추천**\n",
    "\n",
    "> 설계할 때 가장 큰 어려움은 **rating 매트릭스가 희박하다는 것**\n",
    "- ex) 사용자가 특정 영화에 대한 호불호를 나타내는 rating을 지정하는 영화 앱\n",
    "- 대부분의 사용자들은 이용할 수 있는 영화의 넓은 영역의 극히 일부분만 보았을 것이다.\n",
    "- 결과적으로 대부분의 rating이 지정되지 않는다.\n",
    "    \n"
   ]
  },
  {
   "cell_type": "code",
   "execution_count": null,
   "metadata": {},
   "outputs": [],
   "source": []
  }
 ],
 "metadata": {
  "kernelspec": {
   "display_name": "Python 3",
   "language": "python",
   "name": "python3"
  },
  "language_info": {
   "codemirror_mode": {
    "name": "ipython",
    "version": 3
   },
   "file_extension": ".py",
   "mimetype": "text/x-python",
   "name": "python",
   "nbconvert_exporter": "python",
   "pygments_lexer": "ipython3",
   "version": "3.8.3"
  }
 },
 "nbformat": 4,
 "nbformat_minor": 4
}
