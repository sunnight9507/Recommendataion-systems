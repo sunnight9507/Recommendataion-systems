{
 "cells": [
  {
   "cell_type": "markdown",
   "metadata": {},
   "source": [
    "전자 및 비즈니스 거래를 위한 매체로 **Web의 중요성이 증대됨에 따라 추천시스템 기술 개발의 원동력이 되었다.** 이와 관련하여 중요한 촉매제는 웹이 사용자에게 호불호에 대한 **`피드백`**을 쉽게 제공받을 수 있도록 하는것이다.\n",
    "\n",
    "예를 들어 넷플릭스와 같은 콘텐츠 공급자의 시나리오를 생각해 봅니다.\n",
    "\n",
    "이 경우 사용자는 마우스를 클릭하기만 하면 쉽게 피드백을 제공할 수 있다. 피드백을 제공하는 일반적인 방법론은 사용자가 다양한 항목에 대한 **호불호를 지정하는 평가 시스템(explicit data)**(예: 별 5개 등급 시스템)에서 숫자 값을 선택하는 등급 형태이다.\n",
    "\n",
    "다른 형태의 피드백은 **implicit data**로 Web-centric paradigm에서는 수집하기가 쉽다.\n",
    "\n",
    "예를 들어, 사용자가 항목을 구입하거나 검색하는 간단한 행위를 해당 항목으로 간주될 수 있다. 이러한 형태의 피드백은 Amazon.com과 같은 온라인 상점에서 일반적으로 사용되며, 이런 종류의 데이터 수집은 고객이 필요로 하는 작업이라는 점에서는 매우 용이하다.\n",
    "\n",
    "**추천시스템의 기본 개념은 이러한 다양한 데이터를 활용하여 `고객의 관심`을 `추론`하는 것입니다.**"
   ]
  },
  {
   "cell_type": "code",
   "execution_count": null,
   "metadata": {},
   "outputs": [],
   "source": []
  }
 ],
 "metadata": {
  "kernelspec": {
   "display_name": "Python 3",
   "language": "python",
   "name": "python3"
  },
  "language_info": {
   "codemirror_mode": {
    "name": "ipython",
    "version": 3
   },
   "file_extension": ".py",
   "mimetype": "text/x-python",
   "name": "python",
   "nbconvert_exporter": "python",
   "pygments_lexer": "ipython3",
   "version": "3.8.3"
  }
 },
 "nbformat": 4,
 "nbformat_minor": 4
}
